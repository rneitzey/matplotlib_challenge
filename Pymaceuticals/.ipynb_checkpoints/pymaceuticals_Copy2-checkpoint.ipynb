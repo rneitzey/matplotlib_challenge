{
 "cells": [
  {
   "cell_type": "code",
   "execution_count": 2,
   "metadata": {},
   "outputs": [],
   "source": [
    "# Dependencies and Setup\n",
    "%matplotlib inline\n",
    "import matplotlib.pyplot as plt\n",
    "import pandas as pd\n",
    "import numpy as np\n",
    "from scipy.stats import sem\n",
    "\n",
    "# Hide warning messages in notebook\n",
    "import warnings\n",
    "warnings.filterwarnings('ignore')\n",
    "\n",
    "# Files to Load\n",
    "mouse_drug_data_to_load = \"data/mouse_drug_data.csv\"\n",
    "clinical_trial_data_to_load = \"data/clinicaltrial_data.csv\"\n",
    "\n",
    "# Read the Mouse and Drug Data and the Clinical Trial Data\n",
    "mouse_drug_data = pd.read_csv(mouse_drug_data_to_load)\n",
    "clinical_trial_data = pd.read_csv(clinical_trial_data_to_load)"
   ]
  },
  {
   "cell_type": "code",
   "execution_count": 3,
   "metadata": {
    "scrolled": false
   },
   "outputs": [],
   "source": [
    "# Combine the data into a single dataset and display for preview\n",
    "merge_mouse_tables = pd.merge(mouse_drug_data, clinical_trial_data, on=\"Mouse ID\", how=\"outer\")\n",
    "subject_drugs = [\"Capomulin\",\"Infubinol\",\"Ketapril\",\"Placebo\"]\n",
    "merge_mouse_tables_filtered = merge_mouse_tables[merge_mouse_tables.Drug.isin(subject_drugs)]"
   ]
  },
  {
   "cell_type": "markdown",
   "metadata": {},
   "source": [
    "## Tumor Response to Treatment"
   ]
  },
  {
   "cell_type": "code",
   "execution_count": 4,
   "metadata": {},
   "outputs": [],
   "source": [
    "# Create subset for data frame\n",
    "mouse_columns =  merge_mouse_tables_filtered[[\"Drug\",\"Timepoint\",\"Tumor Volume (mm3)\"]]\n",
    "\n",
    "# Store the Mean Tumor Volume Data Grouped by Drug and Timepoint \n",
    "mouse_groupby = mouse_columns.groupby(['Drug','Timepoint'])\n",
    "\n",
    "# Store mean of Tumor Volume Data into variable\n",
    "mean_volume = mouse_groupby[\"Tumor Volume (mm3)\"].mean()\n",
    "\n",
    "# Create DataFrame with group by and mean volume\n",
    "mouse_groupby_df = pd.DataFrame({\"Tumor Volume (mm3)\": mean_volume})"
   ]
  },
  {
   "cell_type": "code",
   "execution_count": 5,
   "metadata": {},
   "outputs": [
    {
     "data": {
      "text/html": [
       "<div>\n",
       "<style scoped>\n",
       "    .dataframe tbody tr th:only-of-type {\n",
       "        vertical-align: middle;\n",
       "    }\n",
       "\n",
       "    .dataframe tbody tr th {\n",
       "        vertical-align: top;\n",
       "    }\n",
       "\n",
       "    .dataframe thead th {\n",
       "        text-align: right;\n",
       "    }\n",
       "</style>\n",
       "<table border=\"1\" class=\"dataframe\">\n",
       "  <thead>\n",
       "    <tr style=\"text-align: right;\">\n",
       "      <th>Drug</th>\n",
       "      <th>Capomulin</th>\n",
       "      <th>Infubinol</th>\n",
       "      <th>Ketapril</th>\n",
       "      <th>Placebo</th>\n",
       "    </tr>\n",
       "    <tr>\n",
       "      <th>Timepoint</th>\n",
       "      <th></th>\n",
       "      <th></th>\n",
       "      <th></th>\n",
       "      <th></th>\n",
       "    </tr>\n",
       "  </thead>\n",
       "  <tbody>\n",
       "    <tr>\n",
       "      <th>0</th>\n",
       "      <td>45.000000</td>\n",
       "      <td>45.000000</td>\n",
       "      <td>45.000000</td>\n",
       "      <td>45.000000</td>\n",
       "    </tr>\n",
       "    <tr>\n",
       "      <th>5</th>\n",
       "      <td>44.266086</td>\n",
       "      <td>47.062001</td>\n",
       "      <td>47.389175</td>\n",
       "      <td>47.125589</td>\n",
       "    </tr>\n",
       "    <tr>\n",
       "      <th>10</th>\n",
       "      <td>43.084291</td>\n",
       "      <td>49.403909</td>\n",
       "      <td>49.582269</td>\n",
       "      <td>49.423329</td>\n",
       "    </tr>\n",
       "    <tr>\n",
       "      <th>15</th>\n",
       "      <td>42.064317</td>\n",
       "      <td>51.296397</td>\n",
       "      <td>52.399974</td>\n",
       "      <td>51.359742</td>\n",
       "    </tr>\n",
       "    <tr>\n",
       "      <th>20</th>\n",
       "      <td>40.716325</td>\n",
       "      <td>53.197691</td>\n",
       "      <td>54.920935</td>\n",
       "      <td>54.364417</td>\n",
       "    </tr>\n",
       "    <tr>\n",
       "      <th>25</th>\n",
       "      <td>39.939528</td>\n",
       "      <td>55.715252</td>\n",
       "      <td>57.678982</td>\n",
       "      <td>57.482574</td>\n",
       "    </tr>\n",
       "    <tr>\n",
       "      <th>30</th>\n",
       "      <td>38.769339</td>\n",
       "      <td>58.299397</td>\n",
       "      <td>60.994507</td>\n",
       "      <td>59.809063</td>\n",
       "    </tr>\n",
       "    <tr>\n",
       "      <th>35</th>\n",
       "      <td>37.816839</td>\n",
       "      <td>60.742461</td>\n",
       "      <td>63.371686</td>\n",
       "      <td>62.420615</td>\n",
       "    </tr>\n",
       "    <tr>\n",
       "      <th>40</th>\n",
       "      <td>36.958001</td>\n",
       "      <td>63.162824</td>\n",
       "      <td>66.068580</td>\n",
       "      <td>65.052675</td>\n",
       "    </tr>\n",
       "    <tr>\n",
       "      <th>45</th>\n",
       "      <td>36.236114</td>\n",
       "      <td>65.755562</td>\n",
       "      <td>70.662958</td>\n",
       "      <td>68.084082</td>\n",
       "    </tr>\n",
       "  </tbody>\n",
       "</table>\n",
       "</div>"
      ],
      "text/plain": [
       "Drug       Capomulin  Infubinol   Ketapril    Placebo\n",
       "Timepoint                                            \n",
       "0          45.000000  45.000000  45.000000  45.000000\n",
       "5          44.266086  47.062001  47.389175  47.125589\n",
       "10         43.084291  49.403909  49.582269  49.423329\n",
       "15         42.064317  51.296397  52.399974  51.359742\n",
       "20         40.716325  53.197691  54.920935  54.364417\n",
       "25         39.939528  55.715252  57.678982  57.482574\n",
       "30         38.769339  58.299397  60.994507  59.809063\n",
       "35         37.816839  60.742461  63.371686  62.420615\n",
       "40         36.958001  63.162824  66.068580  65.052675\n",
       "45         36.236114  65.755562  70.662958  68.084082"
      ]
     },
     "execution_count": 5,
     "metadata": {},
     "output_type": "execute_result"
    }
   ],
   "source": [
    "# Minor Data Munging to Re-Format the Data Frames\n",
    "timepoint_index_mean = pd.pivot_table(mouse_groupby_df,index='Timepoint', columns='Drug', values='Tumor Volume (mm3)')\n",
    "timepoint_index_mean"
   ]
  },
  {
   "cell_type": "code",
   "execution_count": 7,
   "metadata": {
    "scrolled": true
   },
   "outputs": [],
   "source": [
    "# Store the Standard Error of Tumor Volumes Grouped by Drug and Timepoint\n",
    "sem_volume = mouse_groupby[\"Tumor Volume (mm3)\"].sem()\n",
    "sem_groupby_df = pd.DataFrame({\"Tumor Volume (mm3)\": sem_volume})\n",
    "\n",
    "# Convert to DataFrame\n",
    "timepoint_index_sem = pd.pivot_table(sem_groupby_df,index='Timepoint', columns='Drug', values='Tumor Volume (mm3)')"
   ]
  },
  {
   "cell_type": "code",
   "execution_count": 8,
   "metadata": {
    "scrolled": true
   },
   "outputs": [
    {
     "data": {
      "text/plain": [
       "<ErrorbarContainer object of 3 artists>"
      ]
     },
     "execution_count": 8,
     "metadata": {},
     "output_type": "execute_result"
    },
    {
     "data": {
      "image/png": "[encoded data removed]",
      "text/plain": [
       "<Figure size 432x288 with 1 Axes>"
      ]
     },
     "metadata": {
      "needs_background": "light"
     },
     "output_type": "display_data"
    }
   ],
   "source": [
    "# Create variable for Timepoint with index values from mean data frame as a list \n",
    "Timepoints = list(timepoint_index_mean.index.values)\n",
    "\n",
    "# Create a chart with formatting\n",
    "Capomulin, =plt.plot(Timepoints, timepoint_index_mean.Capomulin, color=\"red\", label=\"Capomulin\", \n",
    "                     marker='o', markersize=4, linewidth=0.5)\n",
    "Infubinol, =plt.plot(Timepoints, timepoint_index_mean.Infubinol, color=\"blue\", label=\"Infubinol\", \n",
    "                     marker='^', markersize=5, linewidth=0.5)\n",
    "Ketapril, =plt.plot(Timepoints, timepoint_index_mean.Ketapril, color=\"green\", label=\"Ketapril\", \n",
    "                    marker='s', markersize=5, linewidth=0.5)\n",
    "Placebo, =plt.plot(Timepoints, timepoint_index_mean.Placebo, color=\"black\", label=\"Placebo\", \n",
    "                   marker='d', markersize=5, linewidth=0.5)\n",
    "\n",
    "# Create labels and other formatting\n",
    "plt.title(\"Tumor Response to Treatment\")\n",
    "plt.ylabel(\"Tumor Volume (mm3)\")\n",
    "plt.xlabel(\"Time(Days)\")\n",
    "plt.grid(axis='y')\n",
    "plt.legend(handles=[Capomulin,Infubinol,Ketapril,Placebo], loc=\"best\")\n",
    "\n",
    "# Create errorbars with formatting\n",
    "\n",
    "plt.errorbar(Timepoints, timepoint_index_mean.Capomulin, yerr=timepoint_index_sem.Capomulin, color=\"red\",\n",
    "             linewidth=0.5)\n",
    "plt.errorbar(Timepoints, timepoint_index_mean.Infubinol, yerr=timepoint_index_sem.Infubinol, color=\"blue\",\n",
    "             linewidth=0.5)\n",
    "plt.errorbar(Timepoints, timepoint_index_mean.Ketapril, yerr=timepoint_index_sem.Ketapril, color=\"green\",\n",
    "             linewidth=0.5)\n",
    "plt.errorbar(Timepoints, timepoint_index_mean.Placebo, yerr=timepoint_index_sem.Placebo, color=\"black\",\n",
    "             linewidth=0.5)\n",
    "# Generate the Plot (with Error Bars)"
   ]
  },
  {
   "cell_type": "markdown",
   "metadata": {},
   "source": [
    "## Metastatic Response to Treatment"
   ]
  },
  {
   "cell_type": "code",
   "execution_count": 9,
   "metadata": {},
   "outputs": [],
   "source": [
    "# Create subset for data frame\n",
    "meta_columns =  merge_mouse_tables_filtered[[\"Drug\",\"Timepoint\",\"Metastatic Sites\"]]\n",
    "\n",
    "# Store the Mean Tumor Volume Data Grouped by Drug and Timepoint \n",
    "mouse_meta_groupby = meta_columns.groupby(['Drug','Timepoint'])\n",
    "\n",
    "# Store mean of Tumor Volume Data into variable\n",
    "mean_meta = mouse_meta_groupby[\"Metastatic Sites\"].mean()\n",
    "\n",
    "# Create DataFrame with group by and mean volume\n",
    "mouse_meta_groupby_df = pd.DataFrame({\"Metastatic Sites\": mean_meta})"
   ]
  },
  {
   "cell_type": "code",
   "execution_count": 10,
   "metadata": {},
   "outputs": [],
   "source": [
    "# Minor Data Munging to Re-Format the Data Frames\n",
    "timepoint_meta_mean = pd.pivot_table(mouse_meta_groupby_df,index='Timepoint', columns='Drug', values='Metastatic Sites')"
   ]
  },
  {
   "cell_type": "code",
   "execution_count": 11,
   "metadata": {},
   "outputs": [],
   "source": [
    "# Store the Standard Error associated with Met. Sites Grouped by Drug and Timepoint \n",
    "sem_meta = mouse_meta_groupby[\"Metastatic Sites\"].sem()\n",
    "\n",
    "# Convert to DataFrame\n",
    "sem_meta_groupby_df = pd.DataFrame({\"Metastatic Sites\": sem_meta})\n",
    "\n",
    "# Create pivot table by Timepoint\n",
    "timepoint_meta_sem = pd.pivot_table(sem_meta_groupby_df,index='Timepoint', columns='Drug', values='Metastatic Sites')"
   ]
  },
  {
   "cell_type": "code",
   "execution_count": 12,
   "metadata": {
    "scrolled": true
   },
   "outputs": [
    {
     "data": {
      "text/plain": [
       "<ErrorbarContainer object of 3 artists>"
      ]
     },
     "execution_count": 12,
     "metadata": {},
     "output_type": "execute_result"
    },
    {
     "data": {
      "image/png": "[encoded data removed]",
      "text/plain": [
       "<Figure size 432x288 with 1 Axes>"
      ]
     },
     "metadata": {
      "needs_background": "light"
     },
     "output_type": "display_data"
    }
   ],
   "source": [
    "# Create variable for Timepoint with index values from mean data frame as a list \n",
    "Timepoints_meta = list(timepoint_meta_sem.index.values)\n",
    "Timepoints_meta\n",
    "\n",
    "# Create a chart with formatting\n",
    "\n",
    "Capomulin, =plt.plot(Timepoints_meta, timepoint_meta_mean.Capomulin, color=\"red\", label=\"Capomulin\", \n",
    "                     marker='o', markersize=4, linewidth=0.5)\n",
    "Infubinol, =plt.plot(Timepoints_meta, timepoint_meta_mean.Infubinol, color=\"blue\", label=\"Infubinol\", \n",
    "                     marker='^', markersize=5, linewidth=0.5)\n",
    "Ketapril, =plt.plot(Timepoints_meta, timepoint_meta_mean.Ketapril, color=\"green\", label=\"Ketapril\", \n",
    "                    marker='s', markersize=5, linewidth=0.5)\n",
    "Placebo, =plt.plot(Timepoints_meta, timepoint_meta_mean.Placebo, color=\"black\", label=\"Placebo\", \n",
    "                   marker='d', markersize=5, linewidth=0.5)\n",
    "\n",
    "\n",
    "# Create labels and other formatting\n",
    "plt.title(\"Metastatic Spread During Treatment\")\n",
    "plt.ylabel(\"Met. Sites\")\n",
    "plt.xlabel(\"Treatment Duration(Days)\")\n",
    "plt.grid(axis='y')\n",
    "plt.legend(handles=[Capomulin,Infubinol,Ketapril,Placebo], loc=\"best\")\n",
    "\n",
    "# Create errorbars with the mean\n",
    "plt.errorbar(Timepoints_meta, timepoint_meta_mean.Capomulin, yerr=timepoint_meta_sem.Capomulin, color=\"red\",\n",
    "             linewidth=0.5)\n",
    "plt.errorbar(Timepoints_meta, timepoint_meta_mean.Infubinol, yerr=timepoint_meta_sem.Infubinol, color=\"blue\",\n",
    "             linewidth=0.5)\n",
    "plt.errorbar(Timepoints_meta, timepoint_meta_mean.Ketapril, yerr=timepoint_meta_sem.Ketapril, color=\"green\",\n",
    "             linewidth=0.5)\n",
    "plt.errorbar(Timepoints_meta, timepoint_meta_mean.Placebo, yerr=timepoint_meta_sem.Placebo, color=\"black\",\n",
    "             linewidth=0.5)\n",
    "# Generate the Plot (with Error Bars)"
   ]
  },
  {
   "cell_type": "markdown",
   "metadata": {},
   "source": [
    "## Survival Rates"
   ]
  },
  {
   "cell_type": "code",
   "execution_count": 13,
   "metadata": {},
   "outputs": [],
   "source": [
    "# Store the Count of Mice Grouped by Drug and Timepoint (W can pass any metric)\n",
    "# Create subset for data frame\n",
    "survival_columns =  merge_mouse_tables_filtered[[\"Drug\",\"Timepoint\",\"Mouse ID\"]]\n",
    "\n",
    "# Group by Drug and Timepoint \n",
    "survival_groupby = survival_columns.groupby(['Drug','Timepoint'])\n",
    "\n",
    "# Store mouse count by percentage\n",
    "survival_count = survival_groupby[\"Mouse ID\"].count()*4\n",
    "\n",
    "# Convert to DataFrame\n",
    "survival_groupby_df = pd.DataFrame({\"Mouse ID\": survival_count})\n",
    "\n",
    "# Create pivot table by Timepoint\n",
    "survival_groupby_pv = pd.pivot_table(survival_groupby_df,index='Timepoint', columns='Drug', values = \"Mouse ID\")\n"
   ]
  },
  {
   "cell_type": "code",
   "execution_count": 14,
   "metadata": {},
   "outputs": [
    {
     "data": {
      "text/plain": [
       "<matplotlib.legend.Legend at 0x189b7e74888>"
      ]
     },
     "execution_count": 14,
     "metadata": {},
     "output_type": "execute_result"
    },
    {
     "data": {
      "image/png": "[encoded data removed]",
      "text/plain": [
       "<Figure size 432x288 with 1 Axes>"
      ]
     },
     "metadata": {
      "needs_background": "light"
     },
     "output_type": "display_data"
    }
   ],
   "source": [
    "# Create variable for Timepoint with index values from mean data frame as a list \n",
    "Timepoints_survival = list(survival_groupby_pv.index.values)\n",
    "\n",
    "# Create a chart with formatting for each drug\n",
    "Capomulin, =plt.plot(Timepoints_survival, survival_count.Capomulin, color=\"red\", label=\"Capomulin\", \n",
    "                     marker='o', markersize=4, linewidth=0.5)\n",
    "Infubinol, =plt.plot(Timepoints_survival, survival_count.Infubinol, color=\"blue\", label=\"Infubinol\", \n",
    "                     marker='^', markersize=5, linewidth=0.5)\n",
    "Ketapril, =plt.plot(Timepoints_survival, survival_count.Ketapril, color=\"green\", label=\"Ketapril\", \n",
    "                    marker='s', markersize=5, linewidth=0.5)\n",
    "Placebo, =plt.plot(Timepoints_survival, survival_count.Placebo, color=\"black\", label=\"Placebo\", \n",
    "                   marker='d', markersize=5, linewidth=0.5)\n",
    "\n",
    "\n",
    "# Create labels and other formatting\n",
    "plt.title(\"Survival During Treatment\")\n",
    "plt.ylabel(\"Survival Rate (%)\")\n",
    "plt.xlabel(\"Time (Days)\")\n",
    "plt.grid(axis='y')\n",
    "plt.legend(handles=[Capomulin,Infubinol,Ketapril,Placebo], loc=\"best\")"
   ]
  },
  {
   "cell_type": "markdown",
   "metadata": {},
   "source": [
    "## Summary Bar Graph"
   ]
  },
  {
   "cell_type": "code",
   "execution_count": 15,
   "metadata": {},
   "outputs": [
    {
     "name": "stdout",
     "output_type": "stream",
     "text": [
      "-19.475302667894173\n",
      "46.12347172785187\n",
      "57.028794686606076\n",
      "51.29796048315153\n"
     ]
    }
   ],
   "source": [
    "# Calculate the percent changes for each drug\n",
    "percent_change_Capomulin = (timepoint_index_mean.Capomulin.iloc[0]-timepoint_index_mean.Capomulin.iloc[9])/45*-100\n",
    "percent_change_Infubinol = (timepoint_index_mean.Infubinol.iloc[0]-timepoint_index_mean.Infubinol.iloc[9])/45*-100\n",
    "percent_change_Ketapril = (timepoint_index_mean.Ketapril.iloc[0]-timepoint_index_mean.Ketapril.iloc[9])/45*-100\n",
    "percent_change_Placebo = (timepoint_index_mean.Placebo.iloc[0]-timepoint_index_mean.Placebo.iloc[9])/45*-100\n",
    "\n",
    "# Display the data to confirm\n",
    "print(percent_change_Capomulin)\n",
    "print(percent_change_Infubinol)\n",
    "print(percent_change_Ketapril)\n",
    "print(percent_change_Placebo)\n"
   ]
  },
  {
   "cell_type": "code",
   "execution_count": 16,
   "metadata": {},
   "outputs": [
    {
     "data": {
      "text/plain": [
       "<matplotlib.axes._subplots.AxesSubplot at 0x189b7ed61c8>"
      ]
     },
     "execution_count": 16,
     "metadata": {},
     "output_type": "execute_result"
    },
    {
     "data": {
      "image/png": "[encoded data removed]",
      "text/plain": [
       "<Figure size 432x288 with 1 Axes>"
      ]
     },
     "metadata": {
      "needs_background": "light"
     },
     "output_type": "display_data"
    }
   ],
   "source": [
    "# Store all Relevant Percent Changes into a Tuple\n",
    "percent_changes = [(\"Capomulin\",percent_change_Capomulin),(\"Infubinol\",percent_change_Infubinol),\n",
    "                   (\"Ketapril\",percent_change_Ketapril),(\"Placebo\",percent_change_Placebo)]\n",
    "\n",
    "percent_changes_df = pd.DataFrame(percent_changes, columns = (\"Drug\",\"Percent Change\"))\n",
    "percent_changes_drug = percent_changes_df.set_index(\"Drug\")\n",
    "\n",
    "# Splice the data between passing and failing drugs\n",
    "percent_changes_drug.plot(kind=\"bar\",legend=False,grid=True,color=\"red\")\n",
    "\n",
    "# Orient widths. Add labels, tick marks, etc. \n",
    "\n",
    "\n",
    "# Use functions to label the percentages of changes\n",
    "\n",
    "\n",
    "# Call functions to implement the function calls\n",
    "\n",
    "\n",
    "# Save the Figure\n",
    "\n",
    "\n",
    "# Show the Figure"
   ]
  },
  {
   "cell_type": "markdown",
   "metadata": {},
   "source": [
    "![Metastatic Spread During Treatment](../Images/change.png)"
   ]
  },
  {
   "cell_type": "code",
   "execution_count": null,
   "metadata": {},
   "outputs": [],
   "source": []
  }
 ],
 "metadata": {
  "anaconda-cloud": {},
  "kernelspec": {
   "display_name": "Python [conda env:testenv] *",
   "language": "python",
   "name": "conda-env-testenv-py"
  },
  "language_info": {
   "codemirror_mode": {
    "name": "ipython",
    "version": 3
   },
   "file_extension": ".py",
   "mimetype": "text/x-python",
   "name": "python",
   "nbconvert_exporter": "python",
   "pygments_lexer": "ipython3",
   "version": "3.7.4"
  }
 },
 "nbformat": 4,
 "nbformat_minor": 1
}
